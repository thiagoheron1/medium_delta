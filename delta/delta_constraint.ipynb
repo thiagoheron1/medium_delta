{
 "cells": [
  {
   "cell_type": "code",
   "execution_count": null,
   "metadata": {},
   "outputs": [],
   "source": [
    "from delta import *\n",
    "from pyspark.sql import SparkSession\n",
    "\n",
    "builder = SparkSession.builder.appName(\"DeltaLakeConstraints\") \\\n",
    "    .config(\"spark.driver.host\", \"localhost\") \\\n",
    "    .config(\"spark.submit.deployMode\", \"client\") \\\n",
    "    .config(\"spark.sql.extensions\", \"io.delta.sql.DeltaSparkSessionExtension\") \\\n",
    "    .config(\"spark.sql.catalog.spark_catalog\", \"org.apache.spark.sql.delta.catalog.DeltaCatalog\")\n",
    "\n",
    "spark = configure_spark_with_delta_pip(builder).getOrCreate()"
   ]
  },
  {
   "cell_type": "code",
   "execution_count": null,
   "metadata": {},
   "outputs": [],
   "source": [
    "df_usuarios = spark.createDataFrame(\n",
    "    [\n",
    "        (\"Thiago\", 12, \"00011122233\"),\n",
    "        (\"Guilherme\", 14, \"00011122233\"),\n",
    "        (\"Joana\", 35, \"00011122233\"),\n",
    "        (\"Maristela\", 40, \"00011122233\"),\n",
    "    ],\n",
    "    [\"nome\", \"idade\", \"cpf\"],\n",
    ")\n",
    "\n",
    "df_usuarios.write.format(\"delta\").saveAsTable(\"usuarios\")"
   ]
  },
  {
   "cell_type": "code",
   "execution_count": null,
   "metadata": {},
   "outputs": [],
   "source": [
    "spark.sql(\"\"\"\n",
    "    ALTER TABLE default.usuarios\n",
    "    ADD CONSTRAINT cpfLength11 CHECK (LENGTH(cpf) == 11)\n",
    "\n",
    "\"\"\")"
   ]
  },
  {
   "cell_type": "code",
   "execution_count": null,
   "metadata": {},
   "outputs": [],
   "source": [
    "spark.sql(\"\"\"\n",
    "    ALTER TABLE default.usuarios\n",
    "    ADD CONSTRAINT idadePositiva CHECK (idade >= 0)\n",
    "\"\"\")"
   ]
  },
  {
   "cell_type": "code",
   "execution_count": null,
   "metadata": {},
   "outputs": [],
   "source": [
    "spark.sql(\"SHOW TBLPROPERTIES usuarios\").show()\n"
   ]
  },
  {
   "cell_type": "code",
   "execution_count": null,
   "metadata": {},
   "outputs": [],
   "source": [
    "df_novos_valo = spark.createDataFrame(\n",
    "    [\n",
    "        (\"João\", 10, \"1\"),\n",
    "    ],\n",
    "    [\"nome\", \"idade\", \"cpf\"],\n",
    ")\n",
    "\n",
    "df.write.format(\"delta\").mode(\"append\").saveAsTable(\"usuarios\")"
   ]
  },
  {
   "cell_type": "code",
   "execution_count": null,
   "metadata": {},
   "outputs": [],
   "source": [
    "df = spark.createDataFrame(\n",
    "    [\n",
    "        (\"João\", -1, \"12345678901\"),\n",
    "    ],\n",
    "    [\"nome\", \"idade\", \"cpf\"],\n",
    ")\n",
    "\n",
    "df.write.format(\"delta\").mode(\"append\").saveAsTable(\"usuarios\")"
   ]
  },
  {
   "cell_type": "code",
   "execution_count": null,
   "metadata": {},
   "outputs": [],
   "source": []
  },
  {
   "cell_type": "code",
   "execution_count": null,
   "metadata": {},
   "outputs": [],
   "source": [
    "spark.sql(\"\"\"\n",
    "    CREATE TABLE default.usuarios (\n",
    "        nome STRING,\n",
    "        cpf STRING NOT NULL\n",
    "    ) USING DELTA;\n",
    "\"\"\")"
   ]
  },
  {
   "cell_type": "code",
   "execution_count": null,
   "metadata": {},
   "outputs": [],
   "source": [
    "df = spark.createDataFrame(\n",
    "    [\n",
    "        (\"Thiago\", \"00011122233\"),\n",
    "        (\"Guilherme\", \"00011122233\"),\n",
    "        (\"Joana\", \"00011122233\"),\n",
    "        (\"Maristela\", \"00011122233\"),\n",
    "    ],\n",
    "    [\"nome\", \"cpf\"],\n",
    ")\n",
    "\n",
    "df.write.format(\"delta\").mode(\"append\").saveAsTable(\"usuarios\")"
   ]
  },
  {
   "cell_type": "code",
   "execution_count": null,
   "metadata": {},
   "outputs": [],
   "source": [
    "\n",
    "from pyspark.sql.types import StructType, StructField, StringType\n",
    "\n",
    "df = spark.createDataFrame(\n",
    "    [\n",
    "        (\"João\", None),\n",
    "    ],\n",
    "    schema=StructType([\n",
    "        StructField(\"nome\", StringType()),\n",
    "        StructField(\"cpf\", StringType()),\n",
    "    ])\n",
    ")\n",
    "\n",
    "df.write.format(\"delta\").mode(\"append\").saveAsTable(\"usuarios\")"
   ]
  },
  {
   "cell_type": "code",
   "execution_count": null,
   "metadata": {},
   "outputs": [],
   "source": []
  },
  {
   "cell_type": "code",
   "execution_count": null,
   "metadata": {},
   "outputs": [],
   "source": []
  },
  {
   "cell_type": "code",
   "execution_count": null,
   "metadata": {},
   "outputs": [],
   "source": []
  },
  {
   "cell_type": "code",
   "execution_count": null,
   "metadata": {},
   "outputs": [],
   "source": []
  },
  {
   "cell_type": "code",
   "execution_count": null,
   "metadata": {},
   "outputs": [],
   "source": []
  },
  {
   "cell_type": "code",
   "execution_count": null,
   "metadata": {},
   "outputs": [],
   "source": []
  },
  {
   "cell_type": "code",
   "execution_count": null,
   "metadata": {},
   "outputs": [],
   "source": []
  }
 ],
 "metadata": {
  "kernelspec": {
   "display_name": "Python 3.9.15 ('delta')",
   "language": "python",
   "name": "python3"
  },
  "language_info": {
   "codemirror_mode": {
    "name": "ipython",
    "version": 3
   },
   "file_extension": ".py",
   "mimetype": "text/x-python",
   "name": "python",
   "nbconvert_exporter": "python",
   "pygments_lexer": "ipython3",
   "version": "3.9.15"
  },
  "orig_nbformat": 4,
  "vscode": {
   "interpreter": {
    "hash": "daa03464e8ab4e095c1f0ee585a07fc2c589ee50dcdc165d416b07210c3aca69"
   }
  }
 },
 "nbformat": 4,
 "nbformat_minor": 2
}
